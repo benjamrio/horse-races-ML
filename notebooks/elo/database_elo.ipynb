{
  "nbformat": 4,
  "nbformat_minor": 0,
  "metadata": {
    "kernelspec": {
      "display_name": "Python 3",
      "language": "python",
      "name": "python3"
    },
    "language_info": {
      "codemirror_mode": {
        "name": "ipython",
        "version": 3
      },
      "file_extension": ".py",
      "mimetype": "text/x-python",
      "name": "python",
      "nbconvert_exporter": "python",
      "pygments_lexer": "ipython3",
      "version": "3.6.8"
    },
    "colab": {
      "name": "code_trainer_jupy_code_elo_mois - Copie.ipynb",
      "provenance": [],
      "collapsed_sections": [],
      "toc_visible": true
    }
  },
  "cells": [
    {
      "cell_type": "markdown",
      "metadata": {
        "id": "3IpnZZtZMHPz"
      },
      "source": [
        "### Récupération des données"
      ]
    },
    {
      "cell_type": "code",
      "metadata": {
        "colab": {
          "base_uri": "https://localhost:8080/",
          "height": 453
        },
        "id": "D3RpKrPnMHP8",
        "outputId": "66fac503-9551-4283-9725-b13c97d20c44"
      },
      "source": [
        "import numpy as np \n",
        "import matplotlib.pyplot as plt \n",
        "import pandas as pd\n",
        "import time\n",
        "\n",
        "df = pd.read_csv('/content/drive/MyDrive/horsesData.csv')\n",
        "\n",
        "data = df[['raceId', 'horse_genyId','horse_name','results_position']]\n",
        "data"
      ],
      "execution_count": null,
      "outputs": [
        {
          "output_type": "stream",
          "text": [
            "/usr/local/lib/python3.7/dist-packages/IPython/core/interactiveshell.py:2718: DtypeWarning: Columns (31,32,47,48,57,58) have mixed types.Specify dtype option on import or set low_memory=False.\n",
            "  interactivity=interactivity, compiler=compiler, result=result)\n"
          ],
          "name": "stderr"
        },
        {
          "output_type": "execute_result",
          "data": {
            "text/html": [
              "<div>\n",
              "<style scoped>\n",
              "    .dataframe tbody tr th:only-of-type {\n",
              "        vertical-align: middle;\n",
              "    }\n",
              "\n",
              "    .dataframe tbody tr th {\n",
              "        vertical-align: top;\n",
              "    }\n",
              "\n",
              "    .dataframe thead th {\n",
              "        text-align: right;\n",
              "    }\n",
              "</style>\n",
              "<table border=\"1\" class=\"dataframe\">\n",
              "  <thead>\n",
              "    <tr style=\"text-align: right;\">\n",
              "      <th></th>\n",
              "      <th>raceId</th>\n",
              "      <th>horse_genyId</th>\n",
              "      <th>horse_name</th>\n",
              "      <th>results_position</th>\n",
              "    </tr>\n",
              "  </thead>\n",
              "  <tbody>\n",
              "    <tr>\n",
              "      <th>0</th>\n",
              "      <td>pmu_race:01012017/R1/C10</td>\n",
              "      <td>2421081</td>\n",
              "      <td>CALIE DU TROT</td>\n",
              "      <td>NaN</td>\n",
              "    </tr>\n",
              "    <tr>\n",
              "      <th>1</th>\n",
              "      <td>pmu_race:01012017/R1/C10</td>\n",
              "      <td>2449264</td>\n",
              "      <td>COLANIE</td>\n",
              "      <td>NaN</td>\n",
              "    </tr>\n",
              "    <tr>\n",
              "      <th>2</th>\n",
              "      <td>pmu_race:01012017/R1/C10</td>\n",
              "      <td>2433769</td>\n",
              "      <td>CHARMANTE LULU</td>\n",
              "      <td>NaN</td>\n",
              "    </tr>\n",
              "    <tr>\n",
              "      <th>3</th>\n",
              "      <td>pmu_race:01012017/R1/C10</td>\n",
              "      <td>2480332</td>\n",
              "      <td>CAQUISE DE NGANDA</td>\n",
              "      <td>1.0</td>\n",
              "    </tr>\n",
              "    <tr>\n",
              "      <th>4</th>\n",
              "      <td>pmu_race:01012017/R1/C10</td>\n",
              "      <td>2410966</td>\n",
              "      <td>CATOWICE DE CLECY</td>\n",
              "      <td>4.0</td>\n",
              "    </tr>\n",
              "    <tr>\n",
              "      <th>...</th>\n",
              "      <td>...</td>\n",
              "      <td>...</td>\n",
              "      <td>...</td>\n",
              "      <td>...</td>\n",
              "    </tr>\n",
              "    <tr>\n",
              "      <th>16579</th>\n",
              "      <td>pmu_race:31012017/R4/C8</td>\n",
              "      <td>2376906</td>\n",
              "      <td>LADY FORD</td>\n",
              "      <td>9.0</td>\n",
              "    </tr>\n",
              "    <tr>\n",
              "      <th>16580</th>\n",
              "      <td>pmu_race:31012017/R4/C8</td>\n",
              "      <td>2290730</td>\n",
              "      <td>SUPER TOFT</td>\n",
              "      <td>7.0</td>\n",
              "    </tr>\n",
              "    <tr>\n",
              "      <th>16581</th>\n",
              "      <td>pmu_race:31012017/R4/C8</td>\n",
              "      <td>2361646</td>\n",
              "      <td>MEILO MO</td>\n",
              "      <td>2.0</td>\n",
              "    </tr>\n",
              "    <tr>\n",
              "      <th>16582</th>\n",
              "      <td>pmu_race:31012017/R4/C8</td>\n",
              "      <td>2144544</td>\n",
              "      <td>SEDUS</td>\n",
              "      <td>8.0</td>\n",
              "    </tr>\n",
              "    <tr>\n",
              "      <th>16583</th>\n",
              "      <td>pmu_race:31012017/R4/C8</td>\n",
              "      <td>2347004</td>\n",
              "      <td>SUPER ARIC</td>\n",
              "      <td>NaN</td>\n",
              "    </tr>\n",
              "  </tbody>\n",
              "</table>\n",
              "<p>16584 rows × 4 columns</p>\n",
              "</div>"
            ],
            "text/plain": [
              "                         raceId  horse_genyId         horse_name  \\\n",
              "0      pmu_race:01012017/R1/C10       2421081      CALIE DU TROT   \n",
              "1      pmu_race:01012017/R1/C10       2449264            COLANIE   \n",
              "2      pmu_race:01012017/R1/C10       2433769     CHARMANTE LULU   \n",
              "3      pmu_race:01012017/R1/C10       2480332  CAQUISE DE NGANDA   \n",
              "4      pmu_race:01012017/R1/C10       2410966  CATOWICE DE CLECY   \n",
              "...                         ...           ...                ...   \n",
              "16579   pmu_race:31012017/R4/C8       2376906          LADY FORD   \n",
              "16580   pmu_race:31012017/R4/C8       2290730         SUPER TOFT   \n",
              "16581   pmu_race:31012017/R4/C8       2361646           MEILO MO   \n",
              "16582   pmu_race:31012017/R4/C8       2144544              SEDUS   \n",
              "16583   pmu_race:31012017/R4/C8       2347004         SUPER ARIC   \n",
              "\n",
              "       results_position  \n",
              "0                   NaN  \n",
              "1                   NaN  \n",
              "2                   NaN  \n",
              "3                   1.0  \n",
              "4                   4.0  \n",
              "...                 ...  \n",
              "16579               9.0  \n",
              "16580               7.0  \n",
              "16581               2.0  \n",
              "16582               8.0  \n",
              "16583               NaN  \n",
              "\n",
              "[16584 rows x 4 columns]"
            ]
          },
          "metadata": {
            "tags": []
          },
          "execution_count": 413
        }
      ]
    },
    {
      "cell_type": "markdown",
      "metadata": {
        "id": "Y3CO4qYOMHQA"
      },
      "source": [
        "### Création tableau des classements elo"
      ]
    },
    {
      "cell_type": "code",
      "metadata": {
        "colab": {
          "base_uri": "https://localhost:8080/",
          "height": 80
        },
        "id": "gqdWVkXdMHQB",
        "outputId": "a5b8b42a-ce60-411b-a823-366b45049732"
      },
      "source": [
        "classement = pd.DataFrame(columns = ['id', 'nom', 'elo']).set_index('id', drop=False)\n",
        "classement"
      ],
      "execution_count": null,
      "outputs": [
        {
          "output_type": "execute_result",
          "data": {
            "text/html": [
              "<div>\n",
              "<style scoped>\n",
              "    .dataframe tbody tr th:only-of-type {\n",
              "        vertical-align: middle;\n",
              "    }\n",
              "\n",
              "    .dataframe tbody tr th {\n",
              "        vertical-align: top;\n",
              "    }\n",
              "\n",
              "    .dataframe thead th {\n",
              "        text-align: right;\n",
              "    }\n",
              "</style>\n",
              "<table border=\"1\" class=\"dataframe\">\n",
              "  <thead>\n",
              "    <tr style=\"text-align: right;\">\n",
              "      <th></th>\n",
              "      <th>id</th>\n",
              "      <th>nom</th>\n",
              "      <th>elo</th>\n",
              "    </tr>\n",
              "    <tr>\n",
              "      <th>id</th>\n",
              "      <th></th>\n",
              "      <th></th>\n",
              "      <th></th>\n",
              "    </tr>\n",
              "  </thead>\n",
              "  <tbody>\n",
              "  </tbody>\n",
              "</table>\n",
              "</div>"
            ],
            "text/plain": [
              "Empty DataFrame\n",
              "Columns: [id, nom, elo]\n",
              "Index: []"
            ]
          },
          "metadata": {
            "tags": []
          },
          "execution_count": 414
        }
      ]
    },
    {
      "cell_type": "markdown",
      "metadata": {
        "id": "sQOmeOJdMHQD"
      },
      "source": [
        "### Code classement elo"
      ]
    },
    {
      "cell_type": "code",
      "metadata": {
        "id": "Bb9VnOefMHQE"
      },
      "source": [
        "########## FONCTION ########## Code modification elo #########\n",
        "\n",
        "def new_elo(anciens_elo, resultats):\n",
        "    \"\"\"\n",
        "    Calcule la liste des nouveaux elos\n",
        "    Args :\n",
        "      anciens_elo -- liste de float\n",
        "      resultats -- liste de float, contenant des nan (et rien d'autre)\n",
        "    \"\"\"\n",
        "    K = 24   #Paramètre pour le calcul\n",
        "    nb_partants = len(anciens_elo)  \n",
        "    nb_arrivees = np.count_nonzero(~np.isnan(resultats))\n",
        "    \n",
        "    #Un pti mot pour dire ce qu'est R ?\n",
        "    R = 10**(anciens_elo/400)\n",
        "    Rtot = np.sum(R)\n",
        "\n",
        "    E = R/(R+(1/(nb_partants-1))*(Rtot-R))\n",
        "\n",
        "    S = np.array([(nb_arrivees-position+1)/nb_arrivees if not np.isnan(position) else 0 for position in resultats])\n",
        "    \n",
        "    new_elo_tot = K*np.sum(S-E)\n",
        "    nvx_elo = anciens_elo + K*(S-E) - new_elo_tot/nb_partants\n",
        "    \n",
        "    return nvx_elo"
      ],
      "execution_count": null,
      "outputs": []
    },
    {
      "cell_type": "code",
      "metadata": {
        "id": "4ERDHyk0MHQG"
      },
      "source": [
        "def maj(classement, ids, elos):\n",
        "    for indice, id in enumerate(ids):\n",
        "      classement.at[id, 'elo'] = elos[indice]\n",
        "pd.set_option('display.max_columns', None)"
      ],
      "execution_count": null,
      "outputs": []
    },
    {
      "cell_type": "markdown",
      "metadata": {
        "id": "IJe9ADlKbreA"
      },
      "source": [
        "Dans un premier temps, nous initialisons l'elo de tous les chevaux qui ne sont pas dans la database classement."
      ]
    },
    {
      "cell_type": "code",
      "metadata": {
        "scrolled": true,
        "colab": {
          "base_uri": "https://localhost:8080/"
        },
        "id": "hIlh5wreMHQH",
        "outputId": "922a221c-1887-450a-9359-981d93673b81"
      },
      "source": [
        "tmps1=time.clock()\n",
        "ELO_INITIAL = 1500\n",
        "\n",
        "#On travaille d'abord sur des numpy arrays (plus rapide et plus léger)\n",
        "index_absents = ~data['horse_genyId'].isin(classement['id']).values  \n",
        "absents = data[['horse_genyId','horse_name']][index_absents].values\n",
        "liste_elo = np.broadcast_to(ELO_INITIAL, (len(absents), 1))  #on crée une liste de la bonne taille avec les élos initiaux\n",
        "nvx_chevaux_data = np.concatenate((absents, liste_elo), axis=1)  #on crée la \"base\" du dataframe : colonnes = id, nom, elo\n",
        "\n",
        "\n",
        "#Actualisation du dataframe de référence\n",
        "df2 = pd.DataFrame(nvx_chevaux_data, columns = ['id', 'nom', 'elo'])\n",
        "classement = classement.append(df2, ignore_index=True).set_index('id', drop=False)\n",
        "\n",
        "classement.drop_duplicates(inplace=True, subset=['id'])  #On a ajouté les chevaux à chaque fois qu'ils apparaissaient dans le fichier course \n",
        "                                                          #et qu'ils n'étaient pas dans le classement. Mais ils peuvent courir plusieurs fois\n",
        "\n",
        "#Parcours successif des courses pour calculer les nouveaux elos \n",
        "g = data.groupby('raceId')\n",
        "\n",
        "for _, race_data in g:\n",
        "    #On récupère dans un df toutes les données dont on a besoin avec une jointure à gauche (tous les chevaux de la course observée)\n",
        "    infos_course = pd.merge(race_data, classement, how='inner', left_on='horse_genyId', right_index=True)\n",
        "\n",
        "    nouveaux_elos = new_elo(infos_course['elo'].values, infos_course['results_position'].values)\n",
        "    maj(classement, infos_course['horse_genyId'].values, nouveaux_elos)\n",
        "\n",
        "print(classement)\n",
        "tmps2=time.clock()\n",
        "print(tmps2-tmps1)\n",
        "\n"
      ],
      "execution_count": null,
      "outputs": [
        {
          "output_type": "stream",
          "text": [
            "/usr/local/lib/python3.7/dist-packages/ipykernel_launcher.py:1: DeprecationWarning: time.clock has been deprecated in Python 3.3 and will be removed from Python 3.8: use time.perf_counter or time.process_time instead\n",
            "  \"\"\"Entry point for launching an IPython kernel.\n"
          ],
          "name": "stderr"
        },
        {
          "output_type": "stream",
          "text": [
            "             id     nom      elo\n",
            "count     11574   11574  11574.0\n",
            "unique    11574   11551     15.0\n",
            "top     2457599  DANCER   1500.0\n",
            "freq          1       2  11559.0\n",
            "              id                nom      elo\n",
            "id                                          \n",
            "2421081  2421081      CALIE DU TROT  1494.46\n",
            "2449264  2449264            COLANIE  1490.24\n",
            "2433769  2433769     CHARMANTE LULU  1487.32\n",
            "2480332  2480332  CAQUISE DE NGANDA  1535.47\n",
            "2410966  2410966  CATOWICE DE CLECY  1486.95\n",
            "...          ...                ...      ...\n",
            "2281507  2281507        TUTANCHAMON  1505.39\n",
            "2250735  2250735       VIEUX MANOIR  1492.99\n",
            "2444735  2444735        DUKE ELAINE  1496.41\n",
            "2500277  2500277              MILES  1498.81\n",
            "2481846  2481846          KIMBOY MO  1501.21\n",
            "\n",
            "[11574 rows x 3 columns]\n",
            "5.188583999999992\n"
          ],
          "name": "stdout"
        },
        {
          "output_type": "stream",
          "text": [
            "/usr/local/lib/python3.7/dist-packages/ipykernel_launcher.py:26: DeprecationWarning: time.clock has been deprecated in Python 3.3 and will be removed from Python 3.8: use time.perf_counter or time.process_time instead\n"
          ],
          "name": "stderr"
        }
      ]
    }
  ]
}